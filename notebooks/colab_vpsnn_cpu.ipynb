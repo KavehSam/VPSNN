{
 "cells": [
  {
   "cell_type": "code",
   "execution_count": null,
   "metadata": {},
   "outputs": [],
   "source": [
    "# Clone the entire repo.\n",
    "!git clone -l -s https://github.com/KavehSam/VPSNN.git vpsnn-repo\n",
    "%cd vpsnn-repo\n",
    "!ls"
   ]
  },
  {
   "cell_type": "code",
   "execution_count": null,
   "metadata": {},
   "outputs": [],
   "source": [
    "import os\n",
    "import sys\n",
    "module_path = os.path.abspath(os.path.join(\".\"))\n",
    "if module_path not in sys.path:\n",
    "    sys.path.append(module_path)"
   ]
  },
  {
   "cell_type": "code",
   "execution_count": null,
   "metadata": {},
   "outputs": [],
   "source": [
    "import os.path\n",
    "import random\n",
    "\n",
    "import get_params as params\n",
    "import torch\n",
    "import torch.nn as nn\n",
    "import torch.optim as optim\n",
    "from classifier_models.utils import return_model_accuracy\n",
    "from classifier_models.vpnn import (FCMVPCSNN, FCMVPSNN, FCTMVPSNN, FCVPNN,\n",
    "                                    FCVPSNN, FCVPTSNN)\n",
    "from dataloaders.load_dataset import load_ecg_real\n",
    "from nn_layers.vp_layers import *\n"
   ]
  },
  {
   "cell_type": "code",
   "execution_count": null,
   "metadata": {},
   "outputs": [],
   "source": [
    "%cd notebooks\n",
    "params.get('network_configs/ECG_VPNN.yaml')\n",
    "\n",
    "torch.manual_seed(params.SEED_NUM)\n",
    "random.seed(params.SEED_NUM)\n",
    "\n",
    "data_path = os.path.join('../data', 'ecg', 'mitbih')\n",
    "train_loader, test_loader = load_ecg_real(params.batch_size, data_path)\n",
    "number_of_observations = len(train_loader.dataset)\n"
   ]
  },
  {
   "cell_type": "code",
   "execution_count": null,
   "metadata": {},
   "outputs": [],
   "source": [
    "if params.classifier_name == 'FCVPNN':\n",
    "    '''FCVPNN - setup'''\n",
    "    classifier = FCVPNN(params.vp_latent_dim, params.num_classes,\n",
    "                        device=params.device, penalty=params.L2penalty, init_vp=params.init_vp)\n",
    "elif params.classifier_name == 'FCVPSNN':\n",
    "    '''FCVPSNN - setup'''\n",
    "    init_vp = [0.1, 0]\n",
    "    classifier = FCVPSNN(params.vp_latent_dim, params.num_classes, device=params.device,\n",
    "                         penalty=params.L2penalty, init_vp=init_vp, n_steps=params.n_steps)\n",
    "elif params.classifier_name == 'FCVPTSNN':\n",
    "    '''FCVPTSNN - setup'''\n",
    "    init_vp = [0.001, 0.001]\n",
    "    classifier = FCVPTSNN(params.vp_latent_dim, params.num_classes, device=params.device,\n",
    "                          penalty=params.L2penalty, init_vp=init_vp, n_steps=params.n_steps)\n",
    "elif params.classifier_name == 'FCMVPSNN':\n",
    "    '''FCMVPSNN - setup'''\n",
    "    init_mvp = [random.random() for i in range(2 * params.n_steps)]\n",
    "    classifier = FCMVPSNN(params.vp_latent_dim, params.num_classes, device=params.device,\n",
    "                          penalty=params.L2penalty, init_vp=init_mvp, n_steps=params.n_steps, m_vp=params.n_steps)\n",
    "elif params.classifier_name == 'FCTMVPSNN':\n",
    "    '''FCTMVPSNN - setup'''\n",
    "    init_mvp = [random.random()/2 for i in range(2 * params.n_steps)]\n",
    "    classifier = FCTMVPSNN(params.vp_latent_dim, params.num_classes, device=params.device,\n",
    "                           penalty=params.L2penalty, init_vp=init_mvp, n_steps=params.n_steps, m_vp=params.n_steps)\n",
    "elif params.classifier_name == 'FCMVPCSNN':\n",
    "    '''FCMVPCSNN - setup'''\n",
    "    init_mvp = [random.random() for i in range(2 * params.n_steps)]\n",
    "    # insert some weights which prooved to be suitable for ECG classification\n",
    "    init_mvp[0:2] = [0.1, 0.0]\n",
    "    classifier = FCMVPCSNN(params.vp_latent_dim, params.num_classes, device=params.device,\n",
    "                           penalty=params.L2penalty, init_vp=init_mvp, n_steps=params.n_steps, m_vp=params.n_steps)\n",
    "\n",
    "classifier.to(params.device)\n"
   ]
  },
  {
   "cell_type": "code",
   "execution_count": null,
   "metadata": {},
   "outputs": [],
   "source": [
    "# define objective and optimizer functions\n",
    "criterion = nn.BCELoss()\n",
    "optimizer = optim.Adagrad(classifier.parameters(), \n",
    "                       lr=params.lr,\n",
    "                       lr_decay=params.lr_decay,\n",
    "                       weight_decay=0.001)\n"
   ]
  },
  {
   "cell_type": "code",
   "execution_count": null,
   "metadata": {},
   "outputs": [],
   "source": [
    "# loop over the dataset multiple times\n",
    "for epoch in range(params.epochs_cls):  \n",
    "    running_loss = 0.0\n",
    "    for i, data in enumerate(train_loader, 0):\n",
    "        # get the inputs; data is a list of [inputs, labels]\n",
    "        inputs, labels = data[0].to(params.device), data[1].to(params.device)\n",
    "\n",
    "        # zero the parameter gradients\n",
    "        optimizer.zero_grad()\n",
    "\n",
    "        # forward + backward + optimize\n",
    "        outputs = classifier(inputs)\n",
    "        loss = criterion(outputs, labels)\n",
    "        loss.backward()\n",
    "        optimizer.step()\n",
    "\n",
    "        # print statistics\n",
    "        running_loss += loss.item()\n",
    "\n",
    "    # print epoch performance\n",
    "    with torch.no_grad():\n",
    "        train_acc = return_model_accuracy(classifier, train_loader, params.device)\n",
    "        test_acc = return_model_accuracy(classifier, test_loader, params.device)\n",
    "        print(f'[Epoch: {epoch + 1}], Train accuracy: {train_acc:.2f}%, Test accuracy: {test_acc:.2f}%')\n",
    "        print(f'[Epoch: {epoch + 1}], Train accuracy: {train_acc:.2f}%, Test accuracy: {test_acc:.2f}%', file=open('output.txt', 'a'))\n",
    "\n",
    "print('Finished Training')"
   ]
  }
 ],
 "metadata": {
  "kernelspec": {
   "display_name": "Python 3.8.13 ('svpnn')",
   "language": "python",
   "name": "python3"
  },
  "language_info": {
   "codemirror_mode": {
    "name": "ipython",
    "version": 3
   },
   "file_extension": ".py",
   "mimetype": "text/x-python",
   "name": "python",
   "nbconvert_exporter": "python",
   "pygments_lexer": "ipython3",
   "version": "3.8.13"
  },
  "orig_nbformat": 4,
  "vscode": {
   "interpreter": {
    "hash": "1c80b844fe0aa07aa86a244abc48ed038203968ea56d6ff5a90bde73b5c5c9b8"
   }
  }
 },
 "nbformat": 4,
 "nbformat_minor": 2
}
